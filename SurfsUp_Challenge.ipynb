{
 "cells": [
  {
   "cell_type": "code",
   "execution_count": null,
   "metadata": {},
   "outputs": [],
   "source": [
    "# Dependencies\n",
    "import numpy as np\n",
    "\n",
    "# Python SQL toolkit and Object Relational Mapper\n",
    "import sqlalchemy\n",
    "from sqlalchemy.ext.automap import automap_base\n",
    "from sqlalchemy.orm import Session\n",
    "from sqlalchemy import create_engine, func"
   ]
  },
  {
   "cell_type": "code",
   "execution_count": null,
   "metadata": {},
   "outputs": [],
   "source": [
    "engine = create_engine(\"sqlite:///hawaii.sqlite\")\n",
    "\n",
    "# reflect an existing database into a new model\n",
    "Base = automap_base()\n",
    "# reflect the tables\n",
    "Base.prepare(engine, reflect=True)\n",
    "\n",
    "# Save references to each table\n",
    "Measurement = Base.classes.measurement\n",
    "Station = Base.classes.station"
   ]
  },
  {
   "cell_type": "code",
   "execution_count": null,
   "metadata": {},
   "outputs": [],
   "source": [
    "# Create our session (link) from Python to the DB\n",
    "session = Session(engine)"
   ]
  },
  {
   "cell_type": "markdown",
   "metadata": {},
   "source": [
    "## D1: Determine the Summary Statistics for June"
   ]
  },
  {
   "cell_type": "code",
   "execution_count": null,
   "metadata": {},
   "outputs": [],
   "source": [
    "# Import the sqlalchemy extract function.\n",
    "from sqlalchemy import extract\n",
    "\n",
    "# 1. Write a query that filters the Measurement table to retrieve the temperatures for the month of June. \n",
    "june_0 = dt.date(2010, 6, 1)\n",
    "july_0 = dt.date(2010, 7, 1)\n",
    "june_1 = dt.date(2011, 6, 1)\n",
    "july_1 = dt.date(2011, 7, 1)\n",
    "june_2 = dt.date(2012, 6, 1)\n",
    "july_2 = dt.date(2012, 7, 1)\n",
    "june_3 = dt.date(2013, 6, 1)\n",
    "july_3 = dt.date(2013, 7, 1)\n",
    "june_4 = dt.date(2014, 6, 1)\n",
    "july_4 = dt.date(2014, 7, 1)\n",
    "june_5 = dt.date(2015, 6, 1)\n",
    "july_5 = dt.date(2015, 7, 1)\n",
    "june_6 = dt.date(2016, 6, 1)\n",
    "july_6 = dt.date(2016, 7, 1)\n",
    "june_7 = dt.date(2017, 6, 1)\n",
    "july_7 = dt.date(2017, 7, 1)\n",
    "\n",
    "results = []\n",
    "results = session.query(Measurement.date, Measurement.tobs)\n",
    "results = session.query(Measurement.date, Measurement.tobs).\\\n",
    "filter((Measurement.date >= june_0) & (Measurement.date < july_0)|\n",
    "       (Measurement.date >= june_1) & (Measurement.date < july_1)|\n",
    "       (Measurement.date >= june_2) & (Measurement.date < july_2)|\n",
    "       (Measurement.date >= june_3) & (Measurement.date < july_3)|\n",
    "       (Measurement.date >= june_4) & (Measurement.date < july_4)|\n",
    "       (Measurement.date >= june_5) & (Measurement.date < july_5)|\n",
    "       (Measurement.date >= june_6) & (Measurement.date < july_6)|\n",
    "       (Measurement.date >= june_7) & (Measurement.date < july_7)).all()\n",
    "print(results)"
   ]
  },
  {
   "cell_type": "code",
   "execution_count": null,
   "metadata": {},
   "outputs": [],
   "source": [
    "# 2. Convert the June temperatures to a list.\n",
    "june_temp = list(results)\n",
    "print(june_temp)"
   ]
  },
  {
   "cell_type": "code",
   "execution_count": null,
   "metadata": {},
   "outputs": [],
   "source": [
    "# 3. Create a DataFrame from the list of temperatures for the month of June. \n",
    "june_temp_df = pd.DataFrame(results, columns=['date', 'June Temps'])\n",
    "june_temp_df = june_temp_df.set_index(june_temp_df['date'], inplace=False)\n",
    "print(june_temp_df)"
   ]
  },
  {
   "cell_type": "code",
   "execution_count": null,
   "metadata": {},
   "outputs": [],
   "source": [
    "# 4. Calculate and print out the summary statistics for the June temperature DataFrame.\n",
    "june_temp_df.describe()"
   ]
  },
  {
   "cell_type": "code",
   "execution_count": null,
   "metadata": {},
   "outputs": [],
   "source": [
    "# 5. Return to your challenge instructions to compare your summary statistics"
   ]
  },
  {
   "cell_type": "markdown",
   "metadata": {},
   "source": [
    "## D2: Determine the Summary Statistics for December"
   ]
  },
  {
   "cell_type": "code",
   "execution_count": null,
   "metadata": {},
   "outputs": [],
   "source": [
    "# 6. Write a query that filters the Measurement table to retrieve the temperatures for the month of December.\n",
    "dec_0 = dt.date(2010, 12, 1)\n",
    "jan_0 = dt.date(2011, 1, 1)\n",
    "dec_1 = dt.date(2011, 12, 1)\n",
    "jan_1 = dt.date(2012, 1, 1)\n",
    "dec_2 = dt.date(2012, 12, 1)\n",
    "jan_2 = dt.date(2013, 1, 1)\n",
    "dec_3 = dt.date(2013, 12, 1)\n",
    "jan_3 = dt.date(2014, 1, 1)\n",
    "dec_4 = dt.date(2014, 12, 1)\n",
    "jan_4 = dt.date(2015, 1, 1)\n",
    "dec_5 = dt.date(2015, 12, 1)\n",
    "jan_5 = dt.date(2016, 1, 1)\n",
    "dec_6 = dt.date(2016, 12, 1)\n",
    "jan_6 = dt.date(2017, 1, 1)\n",
    "dec_7 = dt.date(2017, 12, 1)\n",
    "\n",
    "results = []\n",
    "results = session.query(Measurement.date, Measurement.tobs)\n",
    "results = session.query(Measurement.date, Measurement.tobs).\\\n",
    "filter((Measurement.date >= dec_0) & (Measurement.date < jan_0)|\n",
    "       (Measurement.date >= dec_1) & (Measurement.date < jan_1)|\n",
    "       (Measurement.date >= dec_2) & (Measurement.date < jan_2)|\n",
    "       (Measurement.date >= dec_3) & (Measurement.date < jan_3)|\n",
    "       (Measurement.date >= dec_4) & (Measurement.date < jan_4)|\n",
    "       (Measurement.date >= dec_5) & (Measurement.date < jan_5)|\n",
    "       (Measurement.date >= dec_6) & (Measurement.date < jan_6)|\n",
    "       (Measurement.date >= dec_7)).all()\n",
    "print(results)"
   ]
  },
  {
   "cell_type": "code",
   "execution_count": null,
   "metadata": {},
   "outputs": [],
   "source": [
    "# 7. Convert the December temperatures to a list.\n",
    "dec_temp = list(results)\n",
    "print(dec_temp)"
   ]
  },
  {
   "cell_type": "code",
   "execution_count": null,
   "metadata": {},
   "outputs": [],
   "source": [
    "# 8. Create a DataFrame from the list of temperatures for the month of December. \n",
    "dec_temp_df = pd.DataFrame(results, columns=['date', 'December Temps'])\n",
    "dec_temp_df = dec_temp_df.set_index(dec_temp_df['date'], inplace=False)\n",
    "print(dec_temp_df)"
   ]
  },
  {
   "cell_type": "code",
   "execution_count": null,
   "metadata": {},
   "outputs": [],
   "source": [
    "# 9. Calculate and print out the summary statistics for the Decemeber temperature DataFrame.\n",
    "dec_temp_df.describe()"
   ]
  },
  {
   "cell_type": "code",
   "execution_count": null,
   "metadata": {},
   "outputs": [],
   "source": [
    "# 10. Return to your challenge instructions to compare your summary statistics"
   ]
  }
 ],
 "metadata": {
  "kernelspec": {
   "display_name": "Python 3 (ipykernel)",
   "language": "python",
   "name": "python3"
  },
  "language_info": {
   "codemirror_mode": {
    "name": "ipython",
    "version": 3
   },
   "file_extension": ".py",
   "mimetype": "text/x-python",
   "name": "python",
   "nbconvert_exporter": "python",
   "pygments_lexer": "ipython3",
   "version": "3.9.12"
  }
 },
 "nbformat": 4,
 "nbformat_minor": 2
}
